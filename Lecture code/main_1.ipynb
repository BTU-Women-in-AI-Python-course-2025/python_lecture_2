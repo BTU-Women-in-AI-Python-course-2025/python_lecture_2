{
 "cells": [
  {
   "cell_type": "code",
   "execution_count": 3,
   "id": "initial_id",
   "metadata": {
    "ExecuteTime": {
     "end_time": "2025-08-02T20:14:09.635330Z",
     "start_time": "2025-08-02T20:14:09.625226Z"
    },
    "collapsed": true
   },
   "outputs": [
    {
     "name": "stdout",
     "output_type": "stream",
     "text": [
      "Welcome to Lecture Code\n"
     ]
    }
   ],
   "source": [
    "print(\"Welcome to Lecture Code\")"
   ]
  },
  {
   "cell_type": "code",
   "execution_count": 1,
   "id": "6767d7a4f064f4c7",
   "metadata": {
    "ExecuteTime": {
     "end_time": "2025-08-06T15:38:24.639759Z",
     "start_time": "2025-08-06T15:38:24.635937Z"
    },
    "collapsed": false
   },
   "outputs": [],
   "source": [
    "a = 33\n",
    "b = 200\n",
    "\n",
    "if b < a:\n",
    "  print(\"b is greater than a\")"
   ]
  },
  {
   "cell_type": "code",
   "execution_count": 2,
   "id": "af0bcbcceffd674a",
   "metadata": {
    "ExecuteTime": {
     "end_time": "2025-08-06T15:38:29.473085Z",
     "start_time": "2025-08-06T15:38:29.469646Z"
    },
    "collapsed": false
   },
   "outputs": [
    {
     "name": "stdout",
     "output_type": "stream",
     "text": [
      "b is greater than a\n"
     ]
    }
   ],
   "source": [
    "a = 33\n",
    "b = 200\n",
    "\n",
    "if b > a:\n",
    "  print(\"b is greater than a\")"
   ]
  },
  {
   "cell_type": "code",
   "execution_count": 7,
   "id": "b09612dd639c463f",
   "metadata": {
    "ExecuteTime": {
     "end_time": "2025-08-06T15:47:12.745889Z",
     "start_time": "2025-08-06T15:47:12.741550Z"
    },
    "collapsed": false
   },
   "outputs": [
    {
     "name": "stdout",
     "output_type": "stream",
     "text": [
      "a and b are equal\n"
     ]
    }
   ],
   "source": [
    "a = 33\n",
    "b = 33\n",
    "\n",
    "if b > a:\n",
    "  print(\"b is greater than a\")\n",
    "elif a == b:\n",
    "  print(\"a and b are equal\")\n",
    "else:\n",
    "  print(\"c is greater than b\")"
   ]
  },
  {
   "cell_type": "code",
   "execution_count": 8,
   "id": "8fc9392535b015f2",
   "metadata": {
    "ExecuteTime": {
     "end_time": "2025-08-06T15:47:22.387858Z",
     "start_time": "2025-08-06T15:47:22.384321Z"
    },
    "collapsed": false
   },
   "outputs": [
    {
     "name": "stdout",
     "output_type": "stream",
     "text": [
      "b is greater than a\n"
     ]
    }
   ],
   "source": [
    "a = 33\n",
    "b = 50\n",
    "\n",
    "if b > a:\n",
    "  print(\"b is greater than a\")\n",
    "elif a == b:\n",
    "  print(\"a and b are equal\")\n",
    "else:\n",
    "  print(\"c is greater than b\")"
   ]
  },
  {
   "cell_type": "code",
   "execution_count": 9,
   "id": "ffa720db53b8ce2b",
   "metadata": {
    "ExecuteTime": {
     "end_time": "2025-08-06T15:47:28.137617Z",
     "start_time": "2025-08-06T15:47:28.134709Z"
    },
    "collapsed": false
   },
   "outputs": [
    {
     "name": "stdout",
     "output_type": "stream",
     "text": [
      "c is greater than b\n"
     ]
    }
   ],
   "source": [
    "a = 67\n",
    "b = 33\n",
    "\n",
    "if b > a:\n",
    "  print(\"b is greater than a\")\n",
    "elif a == b:\n",
    "  print(\"a and b are equal\")\n",
    "else:\n",
    "  print(\"c is greater than b\")"
   ]
  },
  {
   "cell_type": "code",
   "execution_count": 10,
   "id": "7b041749e5e0ecaf",
   "metadata": {
    "ExecuteTime": {
     "end_time": "2025-08-06T15:48:53.876541Z",
     "start_time": "2025-08-06T15:48:53.870746Z"
    },
    "collapsed": false
   },
   "outputs": [
    {
     "name": "stdout",
     "output_type": "stream",
     "text": [
      "Mariam\n"
     ]
    }
   ],
   "source": [
    "a = 200\n",
    "b = 33\n",
    "if b > a:\n",
    "  print(\"b is greater than a\")\n",
    "\n",
    "print(\"Mariam\")"
   ]
  },
  {
   "cell_type": "code",
   "execution_count": 11,
   "id": "6dd70c253b67d16e",
   "metadata": {
    "ExecuteTime": {
     "end_time": "2025-08-06T15:49:54.172211Z",
     "start_time": "2025-08-06T15:49:54.166526Z"
    },
    "collapsed": false
   },
   "outputs": [
    {
     "name": "stdout",
     "output_type": "stream",
     "text": [
      "a is greater than b\n"
     ]
    }
   ],
   "source": [
    "if a > b: print(\"a is greater than b\")"
   ]
  },
  {
   "cell_type": "code",
   "execution_count": 17,
   "id": "c7cb827bc4410171",
   "metadata": {
    "ExecuteTime": {
     "end_time": "2025-08-06T15:53:07.867254Z",
     "start_time": "2025-08-06T15:53:07.860779Z"
    },
    "collapsed": false
   },
   "outputs": [
    {
     "name": "stdout",
     "output_type": "stream",
     "text": [
      "B\n"
     ]
    }
   ],
   "source": [
    "a = 2\n",
    "b = 330\n",
    "d = \"A\" if a > b else \"B\"\n",
    "print(d)"
   ]
  },
  {
   "cell_type": "code",
   "execution_count": 18,
   "id": "1b7405d7d73da038",
   "metadata": {
    "ExecuteTime": {
     "end_time": "2025-08-06T15:54:01.659348Z",
     "start_time": "2025-08-06T15:54:01.652169Z"
    },
    "collapsed": false
   },
   "outputs": [
    {
     "name": "stdout",
     "output_type": "stream",
     "text": [
      "B\n"
     ]
    }
   ],
   "source": [
    "a = 2\n",
    "b = 330\n",
    "print(\"A\") if a > b else print(\"B\")"
   ]
  },
  {
   "cell_type": "code",
   "execution_count": 19,
   "id": "55371691e19fe3d7",
   "metadata": {
    "ExecuteTime": {
     "end_time": "2025-08-06T15:55:16.839009Z",
     "start_time": "2025-08-06T15:55:16.830493Z"
    },
    "collapsed": false
   },
   "outputs": [
    {
     "name": "stdout",
     "output_type": "stream",
     "text": [
      "=\n"
     ]
    }
   ],
   "source": [
    "a = 330\n",
    "b = 330\n",
    "\n",
    "print(\"A\") if a > b else print(\"=\") if a == b else print(\"B\")"
   ]
  },
  {
   "cell_type": "code",
   "execution_count": 20,
   "id": "251d290c37027767",
   "metadata": {
    "ExecuteTime": {
     "end_time": "2025-08-06T15:55:23.898666Z",
     "start_time": "2025-08-06T15:55:23.895495Z"
    },
    "collapsed": false
   },
   "outputs": [
    {
     "name": "stdout",
     "output_type": "stream",
     "text": [
      "A\n"
     ]
    }
   ],
   "source": [
    "a = 500\n",
    "b = 330\n",
    "\n",
    "print(\"A\") if a > b else print(\"=\") if a == b else print(\"B\")"
   ]
  },
  {
   "cell_type": "code",
   "execution_count": 21,
   "id": "d217ee2cbdc1da26",
   "metadata": {
    "ExecuteTime": {
     "end_time": "2025-08-06T15:55:30.618618Z",
     "start_time": "2025-08-06T15:55:30.612316Z"
    },
    "collapsed": false
   },
   "outputs": [
    {
     "name": "stdout",
     "output_type": "stream",
     "text": [
      "B\n"
     ]
    }
   ],
   "source": [
    "a = 330\n",
    "b = 500\n",
    "\n",
    "print(\"A\") if a > b else print(\"=\") if a == b else print(\"B\")"
   ]
  },
  {
   "cell_type": "code",
   "execution_count": 22,
   "id": "16c0b28febf239ef",
   "metadata": {
    "ExecuteTime": {
     "end_time": "2025-08-06T15:57:07.104447Z",
     "start_time": "2025-08-06T15:57:07.093756Z"
    },
    "collapsed": false
   },
   "outputs": [
    {
     "name": "stdout",
     "output_type": "stream",
     "text": [
      "Both conditions are True\n"
     ]
    }
   ],
   "source": [
    "a = 200\n",
    "b = 33\n",
    "c = 500\n",
    "\n",
    "if a > b and c > a:\n",
    "  print(\"Both conditions are True\")"
   ]
  },
  {
   "cell_type": "code",
   "execution_count": null,
   "id": "554d3d47b950cd31",
   "metadata": {
    "collapsed": false
   },
   "outputs": [],
   "source": [
    "a = 200\n",
    "b = 33\n",
    "c = 500\n",
    "\n",
    "if a > b or a > c:\n",
    "  print(\"At least one of the conditions is True\")"
   ]
  },
  {
   "cell_type": "code",
   "execution_count": 23,
   "id": "568e63ea61f2211f",
   "metadata": {
    "ExecuteTime": {
     "end_time": "2025-08-06T16:02:42.477681Z",
     "start_time": "2025-08-06T16:02:42.471283Z"
    },
    "collapsed": false
   },
   "outputs": [
    {
     "name": "stdout",
     "output_type": "stream",
     "text": [
      "a is NOT greater than b\n"
     ]
    }
   ],
   "source": [
    "a = 33\n",
    "b = 200\n",
    "\n",
    "if not a > b:\n",
    "  print(\"a is NOT greater than b\")"
   ]
  },
  {
   "cell_type": "code",
   "execution_count": 24,
   "id": "20618d371fa057e7",
   "metadata": {
    "ExecuteTime": {
     "end_time": "2025-08-06T16:10:24.329977Z",
     "start_time": "2025-08-06T16:10:24.311523Z"
    },
    "collapsed": false
   },
   "outputs": [
    {
     "name": "stdout",
     "output_type": "stream",
     "text": [
      "Above ten,\n",
      "and also above 20!\n"
     ]
    }
   ],
   "source": [
    "x = 41\n",
    "\n",
    "if x > 10:\n",
    "  print(\"Above ten,\")\n",
    "  if x > 20:\n",
    "    print(\"and also above 20!\")\n",
    "  else:\n",
    "    print(\"but not above 20.\")\n",
    "  "
   ]
  },
  {
   "cell_type": "code",
   "execution_count": 26,
   "id": "9238d6c8fdd1ed51",
   "metadata": {
    "ExecuteTime": {
     "end_time": "2025-08-06T16:10:56.337977Z",
     "start_time": "2025-08-06T16:10:56.334338Z"
    },
    "collapsed": false
   },
   "outputs": [],
   "source": [
    "a = 33\n",
    "b = 200\n",
    "\n",
    "if b > a:\n",
    "  pass"
   ]
  },
  {
   "cell_type": "code",
   "execution_count": 29,
   "id": "52c0c6368a9f06fc",
   "metadata": {
    "ExecuteTime": {
     "end_time": "2025-08-06T16:15:33.323985Z",
     "start_time": "2025-08-06T16:15:33.316171Z"
    },
    "collapsed": false
   },
   "outputs": [
    {
     "name": "stdout",
     "output_type": "stream",
     "text": [
      "apple\n",
      "banana\n",
      "cherry\n"
     ]
    }
   ],
   "source": [
    "fruits = [\"apple\", \"banana\", \"cherry\"]\n",
    "\n",
    "for x in fruits:\n",
    "  print(x)"
   ]
  },
  {
   "cell_type": "code",
   "execution_count": 31,
   "id": "ded98d75787f97d9",
   "metadata": {
    "ExecuteTime": {
     "end_time": "2025-08-06T16:17:24.129337Z",
     "start_time": "2025-08-06T16:17:24.125590Z"
    },
    "collapsed": false
   },
   "outputs": [
    {
     "name": "stdout",
     "output_type": "stream",
     "text": [
      "apple\n",
      "banana\n"
     ]
    }
   ],
   "source": [
    "fruits = [\"apple\", \"banana\", \"cherry\"]\n",
    "\n",
    "for x in fruits:\n",
    "  print(x)\n",
    "  if x == \"banana\":\n",
    "    break"
   ]
  },
  {
   "cell_type": "code",
   "execution_count": 32,
   "id": "3f29fc6c512fd85d",
   "metadata": {
    "ExecuteTime": {
     "end_time": "2025-08-06T16:18:48.225114Z",
     "start_time": "2025-08-06T16:18:48.217923Z"
    },
    "collapsed": false
   },
   "outputs": [
    {
     "name": "stdout",
     "output_type": "stream",
     "text": [
      "apple\n"
     ]
    }
   ],
   "source": [
    "fruits = [\"apple\", \"banana\", \"cherry\"]\n",
    "for x in fruits:\n",
    "  if x == \"banana\":\n",
    "    break\n",
    "  print(x)"
   ]
  },
  {
   "cell_type": "code",
   "execution_count": 38,
   "id": "de46ac39814f9c68",
   "metadata": {
    "ExecuteTime": {
     "end_time": "2025-08-06T16:26:02.424055Z",
     "start_time": "2025-08-06T16:26:02.415970Z"
    },
    "collapsed": false
   },
   "outputs": [
    {
     "name": "stdout",
     "output_type": "stream",
     "text": [
      "2\n",
      "4\n",
      "6\n",
      "8\n",
      "10\n",
      "12\n",
      "14\n",
      "16\n",
      "18\n",
      "20\n",
      "22\n",
      "24\n",
      "26\n",
      "28\n",
      "30\n",
      "32\n",
      "34\n",
      "36\n",
      "38\n",
      "40\n",
      "42\n",
      "44\n",
      "46\n",
      "48\n",
      "50\n",
      "52\n",
      "54\n",
      "56\n",
      "58\n",
      "60\n",
      "62\n",
      "64\n",
      "66\n",
      "68\n",
      "70\n",
      "72\n",
      "74\n",
      "76\n",
      "78\n",
      "80\n",
      "82\n",
      "84\n",
      "86\n",
      "88\n",
      "90\n",
      "92\n",
      "94\n",
      "96\n",
      "98\n"
     ]
    }
   ],
   "source": [
    "for x in range(2, 100, 2):\n",
    "  print(x)"
   ]
  },
  {
   "cell_type": "code",
   "execution_count": null,
   "id": "5b75ece0a957af5d",
   "metadata": {
    "collapsed": false
   },
   "outputs": [],
   "source": [
    "for x in range(2, 30, 3):\n",
    "  print(x)"
   ]
  },
  {
   "cell_type": "code",
   "execution_count": 40,
   "id": "7b3705b541bc4f0e",
   "metadata": {
    "ExecuteTime": {
     "end_time": "2025-08-06T16:28:14.551236Z",
     "start_time": "2025-08-06T16:28:14.541770Z"
    },
    "collapsed": false
   },
   "outputs": [
    {
     "name": "stdout",
     "output_type": "stream",
     "text": [
      "0\n",
      "1\n",
      "2\n",
      "3\n",
      "4\n",
      "5\n",
      "Finally finished!\n"
     ]
    }
   ],
   "source": [
    "for x in range(6):\n",
    "  print(x)\n",
    "  \n",
    "print(\"Finally finished!\")"
   ]
  },
  {
   "cell_type": "code",
   "execution_count": null,
   "id": "a5ad9d859a1f0a6",
   "metadata": {
    "collapsed": false
   },
   "outputs": [],
   "source": [
    "for x in range(6):\n",
    "  print(x)\n",
    "else:\n",
    "  print(\"Finally finished!\")"
   ]
  },
  {
   "cell_type": "code",
   "execution_count": 42,
   "id": "bbc00db094d3202a",
   "metadata": {
    "ExecuteTime": {
     "end_time": "2025-08-06T16:29:49.873652Z",
     "start_time": "2025-08-06T16:29:49.868241Z"
    },
    "collapsed": false
   },
   "outputs": [
    {
     "name": "stdout",
     "output_type": "stream",
     "text": [
      "0\n",
      "1\n",
      "2\n",
      "3\n",
      "4\n",
      "5\n",
      "Finally finished!\n"
     ]
    }
   ],
   "source": [
    "for x in range(6):\n",
    "  if x == 10: break\n",
    "  print(x)\n",
    "else:\n",
    "  print(\"Finally finished!\")"
   ]
  },
  {
   "cell_type": "code",
   "execution_count": 43,
   "id": "a065f09e043a1941",
   "metadata": {
    "ExecuteTime": {
     "end_time": "2025-08-06T16:30:48.583023Z",
     "start_time": "2025-08-06T16:30:48.571480Z"
    },
    "collapsed": false
   },
   "outputs": [
    {
     "name": "stdout",
     "output_type": "stream",
     "text": [
      "red apple\n",
      "red banana\n",
      "red cherry\n",
      "big apple\n",
      "big banana\n",
      "big cherry\n",
      "tasty apple\n",
      "tasty banana\n",
      "tasty cherry\n"
     ]
    }
   ],
   "source": [
    "adj = [\"red\", \"big\", \"tasty\"]\n",
    "fruits = [\"apple\", \"banana\", \"cherry\"]\n",
    "\n",
    "for x in adj:\n",
    "  for y in fruits:\n",
    "    print(x, y)"
   ]
  },
  {
   "cell_type": "code",
   "execution_count": 44,
   "id": "b5155b4ebbf81c95",
   "metadata": {
    "ExecuteTime": {
     "end_time": "2025-08-06T16:32:41.128001Z",
     "start_time": "2025-08-06T16:32:41.122794Z"
    },
    "collapsed": false
   },
   "outputs": [],
   "source": [
    "for x in [0, 1, 2]:\n",
    "  pass"
   ]
  },
  {
   "cell_type": "code",
   "execution_count": 53,
   "id": "ad0f920ea8a88616",
   "metadata": {
    "ExecuteTime": {
     "end_time": "2025-08-06T16:37:16.113536Z",
     "start_time": "2025-08-06T16:37:16.107731Z"
    },
    "collapsed": false
   },
   "outputs": [
    {
     "name": "stdout",
     "output_type": "stream",
     "text": [
      "apple\n",
      "banana\n",
      "cherry\n"
     ]
    }
   ],
   "source": [
    "dict_fruits = {\n",
    "  \"apple\": \"red\",\n",
    "  \"banana\": \"big\",\n",
    "  \"cherry\": \"tasty\"\n",
    "}\n",
    "\n",
    "for x in dict_fruits.keys():\n",
    "  print(x)"
   ]
  },
  {
   "cell_type": "code",
   "execution_count": 54,
   "id": "9d9384625ba61cf9",
   "metadata": {
    "ExecuteTime": {
     "end_time": "2025-08-06T16:38:08.064913Z",
     "start_time": "2025-08-06T16:38:08.055540Z"
    },
    "collapsed": false
   },
   "outputs": [
    {
     "name": "stdout",
     "output_type": "stream",
     "text": [
      "apple red\n",
      "banana big\n",
      "cherry tasty\n"
     ]
    }
   ],
   "source": [
    "dict_fruits = {\n",
    "    \"apple\": \"red\",\n",
    "    \"banana\": \"big\",\n",
    "    \"cherry\": \"tasty\"\n",
    "}\n",
    "\n",
    "for fruit, description in dict_fruits.items():\n",
    "    print(fruit, description)"
   ]
  },
  {
   "cell_type": "code",
   "execution_count": null,
   "id": "464f05964bd8af5d",
   "metadata": {
    "collapsed": false
   },
   "outputs": [],
   "source": [
    "dict_fruits = {\n",
    "  \"apple\": \"red\",\n",
    "  \"banana\": \"big\",\n",
    "  \"cherry\": \"tasty\"\n",
    "}\n",
    "\n",
    "for x in dict_fruits.values():\n",
    "  print(x)"
   ]
  },
  {
   "cell_type": "code",
   "execution_count": 55,
   "id": "8623ffbba7955d9b",
   "metadata": {
    "ExecuteTime": {
     "end_time": "2025-08-06T16:40:26.111484Z",
     "start_time": "2025-08-06T16:40:26.104767Z"
    },
    "collapsed": false
   },
   "outputs": [
    {
     "name": "stdout",
     "output_type": "stream",
     "text": [
      "0\n",
      "1\n",
      "2\n",
      "4\n",
      "5\n",
      "6\n",
      "7\n",
      "8\n"
     ]
    }
   ],
   "source": [
    "for i in range(9):\n",
    "  if i == 3:\n",
    "    continue\n",
    "  print(i)\n"
   ]
  },
  {
   "cell_type": "code",
   "execution_count": 56,
   "id": "e2d3dcbc40d91b2e",
   "metadata": {
    "ExecuteTime": {
     "end_time": "2025-08-06T16:44:13.460668Z",
     "start_time": "2025-08-06T16:44:13.455984Z"
    },
    "collapsed": false
   },
   "outputs": [
    {
     "name": "stdout",
     "output_type": "stream",
     "text": [
      "1\n",
      "2\n",
      "3\n",
      "4\n",
      "5\n"
     ]
    }
   ],
   "source": [
    "i = 1\n",
    "while i < 6:\n",
    "  print(i)\n",
    "  i += 1"
   ]
  },
  {
   "cell_type": "code",
   "execution_count": 57,
   "id": "cc380bd92d738c00",
   "metadata": {
    "ExecuteTime": {
     "end_time": "2025-08-06T16:46:17.790423Z",
     "start_time": "2025-08-06T16:46:17.781252Z"
    },
    "collapsed": false
   },
   "outputs": [
    {
     "name": "stdout",
     "output_type": "stream",
     "text": [
      "1\n",
      "2\n",
      "3\n"
     ]
    }
   ],
   "source": [
    "i = 1\n",
    "while i < 6:\n",
    "  print(i)\n",
    "  if i == 3:\n",
    "    break\n",
    "  i += 1"
   ]
  },
  {
   "cell_type": "code",
   "execution_count": 58,
   "id": "2fa0f6235b010e0",
   "metadata": {
    "ExecuteTime": {
     "end_time": "2025-08-06T16:46:43.577323Z",
     "start_time": "2025-08-06T16:46:43.567680Z"
    },
    "collapsed": false
   },
   "outputs": [
    {
     "name": "stdout",
     "output_type": "stream",
     "text": [
      "1\n",
      "2\n",
      "4\n",
      "5\n",
      "6\n"
     ]
    }
   ],
   "source": [
    "i = 0\n",
    "while i < 6:\n",
    "  i += 1\n",
    "  if i == 3:\n",
    "    continue\n",
    "  print(i)"
   ]
  },
  {
   "cell_type": "code",
   "execution_count": 59,
   "id": "cd8768c3870d4076",
   "metadata": {
    "ExecuteTime": {
     "end_time": "2025-08-06T16:47:12.535294Z",
     "start_time": "2025-08-06T16:47:12.530494Z"
    },
    "collapsed": false
   },
   "outputs": [
    {
     "name": "stdout",
     "output_type": "stream",
     "text": [
      "1\n",
      "2\n",
      "3\n",
      "4\n",
      "5\n",
      "i is no longer less than 6\n"
     ]
    }
   ],
   "source": [
    "i = 1\n",
    "while i < 6:\n",
    "  print(i)\n",
    "  i += 1\n",
    "else:\n",
    "  print(\"i is no longer less than 6\")"
   ]
  },
  {
   "cell_type": "code",
   "execution_count": null,
   "id": "aca0ce2d95573c0e",
   "metadata": {
    "collapsed": false
   },
   "outputs": [],
   "source": []
  }
 ],
 "metadata": {
  "kernelspec": {
   "display_name": "Python 3",
   "language": "python",
   "name": "python3"
  },
  "language_info": {
   "codemirror_mode": {
    "name": "ipython",
    "version": 2
   },
   "file_extension": ".py",
   "mimetype": "text/x-python",
   "name": "python",
   "nbconvert_exporter": "python",
   "pygments_lexer": "ipython2",
   "version": "2.7.6"
  }
 },
 "nbformat": 4,
 "nbformat_minor": 5
}
